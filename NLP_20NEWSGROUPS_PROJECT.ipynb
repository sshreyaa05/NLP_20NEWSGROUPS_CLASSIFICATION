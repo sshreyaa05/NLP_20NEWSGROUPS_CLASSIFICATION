{
  "nbformat": 4,
  "nbformat_minor": 0,
  "metadata": {
    "colab": {
      "provenance": []
    },
    "kernelspec": {
      "name": "python3",
      "display_name": "Python 3"
    },
    "language_info": {
      "name": "python"
    }
  },
  "cells": [
    {
      "cell_type": "code",
      "source": [
        "### IMPORTING NECESSARY LIBRARIES\n",
        "import pandas as pd\n",
        "import numpy as np\n",
        "from sklearn.datasets import fetch_20newsgroups\n",
        "from sklearn.model_selection import train_test_split\n",
        "from tensorflow.keras.preprocessing.text import one_hot\n",
        "from nltk.tokenize import word_tokenize\n",
        "from nltk.stem import PorterStemmer\n",
        "import gensim\n",
        "from gensim.models import Word2Vec\n",
        "from keras.models import Sequential\n",
        "from keras.layers import Dense, Dropout\n",
        "from keras.optimizers import Adam\n",
        "from keras.preprocessing.sequence import pad_sequences\n"
      ],
      "metadata": {
        "id": "FmZZVR3jZWl8"
      },
      "execution_count": 18,
      "outputs": []
    },
    {
      "cell_type": "code",
      "source": [
        "### LOADING THE DATASET\n",
        "newsgroups = fetch_20newsgroups(subset='all', remove=('headers', 'footers', 'quotes'))\n",
        "X = newsgroups.data\n",
        "y = newsgroups.target\n",
        "df = pd.DataFrame({'text': X, 'target': y})\n",
        "df.head()\n"
      ],
      "metadata": {
        "id": "MSFPQGsWZWjh",
        "colab": {
          "base_uri": "https://localhost:8080/",
          "height": 206
        },
        "outputId": "1127c472-02be-4db0-c207-82af78ae730b"
      },
      "execution_count": 19,
      "outputs": [
        {
          "output_type": "execute_result",
          "data": {
            "text/plain": [
              "                                                text  target\n",
              "0  \\n\\nI am sure some bashers of Pens fans are pr...      10\n",
              "1  My brother is in the market for a high-perform...       3\n",
              "2  \\n\\n\\n\\n\\tFinally you said what you dream abou...      17\n",
              "3  \\nThink!\\n\\nIt's the SCSI card doing the DMA t...       3\n",
              "4  1)    I have an old Jasmine drive which I cann...       4"
            ],
            "text/html": [
              "\n",
              "  <div id=\"df-420fc521-504a-47cc-90bf-29cad3d85997\" class=\"colab-df-container\">\n",
              "    <div>\n",
              "<style scoped>\n",
              "    .dataframe tbody tr th:only-of-type {\n",
              "        vertical-align: middle;\n",
              "    }\n",
              "\n",
              "    .dataframe tbody tr th {\n",
              "        vertical-align: top;\n",
              "    }\n",
              "\n",
              "    .dataframe thead th {\n",
              "        text-align: right;\n",
              "    }\n",
              "</style>\n",
              "<table border=\"1\" class=\"dataframe\">\n",
              "  <thead>\n",
              "    <tr style=\"text-align: right;\">\n",
              "      <th></th>\n",
              "      <th>text</th>\n",
              "      <th>target</th>\n",
              "    </tr>\n",
              "  </thead>\n",
              "  <tbody>\n",
              "    <tr>\n",
              "      <th>0</th>\n",
              "      <td>\\n\\nI am sure some bashers of Pens fans are pr...</td>\n",
              "      <td>10</td>\n",
              "    </tr>\n",
              "    <tr>\n",
              "      <th>1</th>\n",
              "      <td>My brother is in the market for a high-perform...</td>\n",
              "      <td>3</td>\n",
              "    </tr>\n",
              "    <tr>\n",
              "      <th>2</th>\n",
              "      <td>\\n\\n\\n\\n\\tFinally you said what you dream abou...</td>\n",
              "      <td>17</td>\n",
              "    </tr>\n",
              "    <tr>\n",
              "      <th>3</th>\n",
              "      <td>\\nThink!\\n\\nIt's the SCSI card doing the DMA t...</td>\n",
              "      <td>3</td>\n",
              "    </tr>\n",
              "    <tr>\n",
              "      <th>4</th>\n",
              "      <td>1)    I have an old Jasmine drive which I cann...</td>\n",
              "      <td>4</td>\n",
              "    </tr>\n",
              "  </tbody>\n",
              "</table>\n",
              "</div>\n",
              "    <div class=\"colab-df-buttons\">\n",
              "\n",
              "  <div class=\"colab-df-container\">\n",
              "    <button class=\"colab-df-convert\" onclick=\"convertToInteractive('df-420fc521-504a-47cc-90bf-29cad3d85997')\"\n",
              "            title=\"Convert this dataframe to an interactive table.\"\n",
              "            style=\"display:none;\">\n",
              "\n",
              "  <svg xmlns=\"http://www.w3.org/2000/svg\" height=\"24px\" viewBox=\"0 -960 960 960\">\n",
              "    <path d=\"M120-120v-720h720v720H120Zm60-500h600v-160H180v160Zm220 220h160v-160H400v160Zm0 220h160v-160H400v160ZM180-400h160v-160H180v160Zm440 0h160v-160H620v160ZM180-180h160v-160H180v160Zm440 0h160v-160H620v160Z\"/>\n",
              "  </svg>\n",
              "    </button>\n",
              "\n",
              "  <style>\n",
              "    .colab-df-container {\n",
              "      display:flex;\n",
              "      gap: 12px;\n",
              "    }\n",
              "\n",
              "    .colab-df-convert {\n",
              "      background-color: #E8F0FE;\n",
              "      border: none;\n",
              "      border-radius: 50%;\n",
              "      cursor: pointer;\n",
              "      display: none;\n",
              "      fill: #1967D2;\n",
              "      height: 32px;\n",
              "      padding: 0 0 0 0;\n",
              "      width: 32px;\n",
              "    }\n",
              "\n",
              "    .colab-df-convert:hover {\n",
              "      background-color: #E2EBFA;\n",
              "      box-shadow: 0px 1px 2px rgba(60, 64, 67, 0.3), 0px 1px 3px 1px rgba(60, 64, 67, 0.15);\n",
              "      fill: #174EA6;\n",
              "    }\n",
              "\n",
              "    .colab-df-buttons div {\n",
              "      margin-bottom: 4px;\n",
              "    }\n",
              "\n",
              "    [theme=dark] .colab-df-convert {\n",
              "      background-color: #3B4455;\n",
              "      fill: #D2E3FC;\n",
              "    }\n",
              "\n",
              "    [theme=dark] .colab-df-convert:hover {\n",
              "      background-color: #434B5C;\n",
              "      box-shadow: 0px 1px 3px 1px rgba(0, 0, 0, 0.15);\n",
              "      filter: drop-shadow(0px 1px 2px rgba(0, 0, 0, 0.3));\n",
              "      fill: #FFFFFF;\n",
              "    }\n",
              "  </style>\n",
              "\n",
              "    <script>\n",
              "      const buttonEl =\n",
              "        document.querySelector('#df-420fc521-504a-47cc-90bf-29cad3d85997 button.colab-df-convert');\n",
              "      buttonEl.style.display =\n",
              "        google.colab.kernel.accessAllowed ? 'block' : 'none';\n",
              "\n",
              "      async function convertToInteractive(key) {\n",
              "        const element = document.querySelector('#df-420fc521-504a-47cc-90bf-29cad3d85997');\n",
              "        const dataTable =\n",
              "          await google.colab.kernel.invokeFunction('convertToInteractive',\n",
              "                                                    [key], {});\n",
              "        if (!dataTable) return;\n",
              "\n",
              "        const docLinkHtml = 'Like what you see? Visit the ' +\n",
              "          '<a target=\"_blank\" href=https://colab.research.google.com/notebooks/data_table.ipynb>data table notebook</a>'\n",
              "          + ' to learn more about interactive tables.';\n",
              "        element.innerHTML = '';\n",
              "        dataTable['output_type'] = 'display_data';\n",
              "        await google.colab.output.renderOutput(dataTable, element);\n",
              "        const docLink = document.createElement('div');\n",
              "        docLink.innerHTML = docLinkHtml;\n",
              "        element.appendChild(docLink);\n",
              "      }\n",
              "    </script>\n",
              "  </div>\n",
              "\n",
              "\n",
              "<div id=\"df-a45e0160-f6c5-445e-95b3-d4404d827eb7\">\n",
              "  <button class=\"colab-df-quickchart\" onclick=\"quickchart('df-a45e0160-f6c5-445e-95b3-d4404d827eb7')\"\n",
              "            title=\"Suggest charts\"\n",
              "            style=\"display:none;\">\n",
              "\n",
              "<svg xmlns=\"http://www.w3.org/2000/svg\" height=\"24px\"viewBox=\"0 0 24 24\"\n",
              "     width=\"24px\">\n",
              "    <g>\n",
              "        <path d=\"M19 3H5c-1.1 0-2 .9-2 2v14c0 1.1.9 2 2 2h14c1.1 0 2-.9 2-2V5c0-1.1-.9-2-2-2zM9 17H7v-7h2v7zm4 0h-2V7h2v10zm4 0h-2v-4h2v4z\"/>\n",
              "    </g>\n",
              "</svg>\n",
              "  </button>\n",
              "\n",
              "<style>\n",
              "  .colab-df-quickchart {\n",
              "      --bg-color: #E8F0FE;\n",
              "      --fill-color: #1967D2;\n",
              "      --hover-bg-color: #E2EBFA;\n",
              "      --hover-fill-color: #174EA6;\n",
              "      --disabled-fill-color: #AAA;\n",
              "      --disabled-bg-color: #DDD;\n",
              "  }\n",
              "\n",
              "  [theme=dark] .colab-df-quickchart {\n",
              "      --bg-color: #3B4455;\n",
              "      --fill-color: #D2E3FC;\n",
              "      --hover-bg-color: #434B5C;\n",
              "      --hover-fill-color: #FFFFFF;\n",
              "      --disabled-bg-color: #3B4455;\n",
              "      --disabled-fill-color: #666;\n",
              "  }\n",
              "\n",
              "  .colab-df-quickchart {\n",
              "    background-color: var(--bg-color);\n",
              "    border: none;\n",
              "    border-radius: 50%;\n",
              "    cursor: pointer;\n",
              "    display: none;\n",
              "    fill: var(--fill-color);\n",
              "    height: 32px;\n",
              "    padding: 0;\n",
              "    width: 32px;\n",
              "  }\n",
              "\n",
              "  .colab-df-quickchart:hover {\n",
              "    background-color: var(--hover-bg-color);\n",
              "    box-shadow: 0 1px 2px rgba(60, 64, 67, 0.3), 0 1px 3px 1px rgba(60, 64, 67, 0.15);\n",
              "    fill: var(--button-hover-fill-color);\n",
              "  }\n",
              "\n",
              "  .colab-df-quickchart-complete:disabled,\n",
              "  .colab-df-quickchart-complete:disabled:hover {\n",
              "    background-color: var(--disabled-bg-color);\n",
              "    fill: var(--disabled-fill-color);\n",
              "    box-shadow: none;\n",
              "  }\n",
              "\n",
              "  .colab-df-spinner {\n",
              "    border: 2px solid var(--fill-color);\n",
              "    border-color: transparent;\n",
              "    border-bottom-color: var(--fill-color);\n",
              "    animation:\n",
              "      spin 1s steps(1) infinite;\n",
              "  }\n",
              "\n",
              "  @keyframes spin {\n",
              "    0% {\n",
              "      border-color: transparent;\n",
              "      border-bottom-color: var(--fill-color);\n",
              "      border-left-color: var(--fill-color);\n",
              "    }\n",
              "    20% {\n",
              "      border-color: transparent;\n",
              "      border-left-color: var(--fill-color);\n",
              "      border-top-color: var(--fill-color);\n",
              "    }\n",
              "    30% {\n",
              "      border-color: transparent;\n",
              "      border-left-color: var(--fill-color);\n",
              "      border-top-color: var(--fill-color);\n",
              "      border-right-color: var(--fill-color);\n",
              "    }\n",
              "    40% {\n",
              "      border-color: transparent;\n",
              "      border-right-color: var(--fill-color);\n",
              "      border-top-color: var(--fill-color);\n",
              "    }\n",
              "    60% {\n",
              "      border-color: transparent;\n",
              "      border-right-color: var(--fill-color);\n",
              "    }\n",
              "    80% {\n",
              "      border-color: transparent;\n",
              "      border-right-color: var(--fill-color);\n",
              "      border-bottom-color: var(--fill-color);\n",
              "    }\n",
              "    90% {\n",
              "      border-color: transparent;\n",
              "      border-bottom-color: var(--fill-color);\n",
              "    }\n",
              "  }\n",
              "</style>\n",
              "\n",
              "  <script>\n",
              "    async function quickchart(key) {\n",
              "      const quickchartButtonEl =\n",
              "        document.querySelector('#' + key + ' button');\n",
              "      quickchartButtonEl.disabled = true;  // To prevent multiple clicks.\n",
              "      quickchartButtonEl.classList.add('colab-df-spinner');\n",
              "      try {\n",
              "        const charts = await google.colab.kernel.invokeFunction(\n",
              "            'suggestCharts', [key], {});\n",
              "      } catch (error) {\n",
              "        console.error('Error during call to suggestCharts:', error);\n",
              "      }\n",
              "      quickchartButtonEl.classList.remove('colab-df-spinner');\n",
              "      quickchartButtonEl.classList.add('colab-df-quickchart-complete');\n",
              "    }\n",
              "    (() => {\n",
              "      let quickchartButtonEl =\n",
              "        document.querySelector('#df-a45e0160-f6c5-445e-95b3-d4404d827eb7 button');\n",
              "      quickchartButtonEl.style.display =\n",
              "        google.colab.kernel.accessAllowed ? 'block' : 'none';\n",
              "    })();\n",
              "  </script>\n",
              "</div>\n",
              "\n",
              "    </div>\n",
              "  </div>\n"
            ],
            "application/vnd.google.colaboratory.intrinsic+json": {
              "type": "dataframe",
              "variable_name": "df",
              "summary": "{\n  \"name\": \"df\",\n  \"rows\": 18846,\n  \"fields\": [\n    {\n      \"column\": \"text\",\n      \"properties\": {\n        \"dtype\": \"string\",\n        \"num_unique_values\": 18287,\n        \"samples\": [\n          \"I remember someone mention about a 150meg syquest.  Has anyone else\\nheard anything about this?  I'd be interested in the cost per megabyte and the\\napproximate cost of the drive itself and how they compare to the Bernoulli 150.\\n\",\n          \": >Atoms are not objective.  They aren't even real.  What scientists call\\n: >an atom is nothing more than a mathematical model that describes \\n: >certain physical, observable properties of our surroundings.  All\\n: >of which is subjective.  \\n: >\\n: >-jim halat\\n\\n: This deserves framing.  It really does.  \\\"[Atoms] aren't even real.\\\"\\n\\n: Tell me then, those atoms we have seen with electron microscopes are\\n: atoms now, so what are they?  Figments of our imaginations?  The\\n: evidence that atoms are real is overwhelming, but I won't bother with\\n: most evidence at the moment.\\n\\nYou would have us believe that what the eye perceives as images are\\nactaully there - as perceived? This may be interesting. I thought\\nthat an electron microscope was used because no wavelength of \\\"light\\\"\\ncan illuminate any \\\"object\\\" of atomic scale. If this image is to have\\nuseful resolution, wouldn't the illuminating sources wavelength have\\nto be several orders of magnitude less than size of thing observed?\\n\\nIf an atom is a \\\"probablity cloud\\\", lower resolutions would give the\\nappearance of solidity, but it seems fairly certain that an atom is\\nnot an object is any conventional sense. Obviously I am not a\\nphysicist, but the question does have ramification of a philosophic\\nnature. Anyway, just a stray thought, carry on ...\",\n          \"\\n\\nThat's a good way to put it.  It's a quiet confidence.  I don't feel like\\nI have to defend this team anymore. \\n\\nThe Devils are a puzzle to me.  They have long been one of the few teams\\nI always dreaded playing.  Their D isn't quite what it used to be but they\\nstill usually play us pretty tough.  I just can't figure it out.  At least\\nlast night they mounted an attack.\\n\\n\\nBernie Nichols was interviewed after Game 2 on the late news.  He was\\nshaking his head in disbelief over Barrasso, saying that Tommy is like\\nanother defenseman out there and how difficult it is playing against him.\\nThen he got this far-away look on his face, his voice started trailing\\noff and he said, \\\"It just isn't right...it just isn't fair...\\\" and he\\ntried to muster a smile.\\n\\n\\nAs far as coaching goes, a Pens/Islanders match-up should be pretty good.\\n\\nOne guy I feel sorry for in all of this so far is Chris Terreri.  I'm sure\\nTom Barrasso knows how he feels.  For so long Tommy would look up and not\\nhave a teammate in sight.  Terreri's teammates really left him out in the\\ncold in the first two games.\"\n        ],\n        \"semantic_type\": \"\",\n        \"description\": \"\"\n      }\n    },\n    {\n      \"column\": \"target\",\n      \"properties\": {\n        \"dtype\": \"number\",\n        \"std\": 5,\n        \"min\": 0,\n        \"max\": 19,\n        \"num_unique_values\": 20,\n        \"samples\": [\n          10,\n          18,\n          6\n        ],\n        \"semantic_type\": \"\",\n        \"description\": \"\"\n      }\n    }\n  ]\n}"
            }
          },
          "metadata": {},
          "execution_count": 19
        }
      ]
    },
    {
      "cell_type": "code",
      "source": [
        "### TEXT PREPROCESSING\n",
        "\n",
        "stemmer = PorterStemmer()\n",
        "\n",
        "def tokenize_and_stem(text):\n",
        "    ## Splitting the text into words/tokens\n",
        "    words = text.split()\n",
        "    ## Applying stemming to each word\n",
        "    stemmed_words = [stemmer.stem(word) for word in words]\n",
        "    ## Joining stemmed words back into a string\n",
        "    return ' '.join(stemmed_words)\n",
        "\n",
        "## Applying tokenization and stemming\n",
        "df['text'] = df['text'].apply(tokenize_and_stem)\n",
        "\n"
      ],
      "metadata": {
        "id": "XYtSDh5O7T71"
      },
      "execution_count": 20,
      "outputs": []
    },
    {
      "cell_type": "code",
      "source": [
        "df['tokens'] = df['text'].apply(lambda text: text.split())"
      ],
      "metadata": {
        "id": "0QqHgvh1BFMy"
      },
      "execution_count": 21,
      "outputs": []
    },
    {
      "cell_type": "code",
      "source": [
        "### IMPLEMENTING WORD2VEC MODEL TO CONVERT TOKEN TO VECTORS\n",
        "word2vec_model = Word2Vec(sentences=df['tokens'], vector_size=100, window=5, min_count=1, workers=4)\n",
        "word2vec_model.save(\"word2vec.model\")  # Save the model for later use\n"
      ],
      "metadata": {
        "id": "kinO7nFx7T1J"
      },
      "execution_count": 22,
      "outputs": []
    },
    {
      "cell_type": "code",
      "source": [
        "### GETTING THE WORD VECTORS FOR EACH DOCUMENT\n",
        "\n",
        "def get_word2vec_vectors(tokens_list, model, vector_size=100):\n",
        "    word_vectors = [model.wv[token] for token in tokens_list if token in model.wv]\n",
        "    return word_vectors  ## Returning the list of word vectors for each document\n",
        "\n",
        "X_word2vec_raw = [get_word2vec_vectors(tokens, word2vec_model) for tokens in df['tokens']]\n",
        "\n"
      ],
      "metadata": {
        "id": "LqrnCSLW-SjF"
      },
      "execution_count": 23,
      "outputs": []
    },
    {
      "cell_type": "code",
      "source": [
        "### PADDING IT TO MAKE IT EQUAL LENGTH\n",
        "\n",
        "max_length = 200\n",
        "X_word2vec_padded = pad_sequences([np.array(doc_vectors) for doc_vectors in X_word2vec_raw],\n",
        "                                  maxlen=max_length,\n",
        "                                  dtype='float32',\n",
        "                                  padding='post',\n",
        "                                  truncating='post')\n",
        "\n",
        "X_word2vec_flattened = X_word2vec_padded.reshape(X_word2vec_padded.shape[0], -1)  ## Flattening to (N, 200 * 100)\n"
      ],
      "metadata": {
        "id": "ntFQ_S7JFQph"
      },
      "execution_count": 24,
      "outputs": []
    },
    {
      "cell_type": "code",
      "source": [
        "### TRAIN TEST SPLITTING\n",
        "X_train_word2vec, X_test_word2vec, y_train, y_test = train_test_split(X_word2vec_flattened, y, test_size=0.2, random_state=42)\n"
      ],
      "metadata": {
        "id": "Xmj3IVRuBl20"
      },
      "execution_count": 25,
      "outputs": []
    },
    {
      "cell_type": "code",
      "source": [
        "### MODEL BUILDING AND COMPILING\n",
        "def build_ann_model(input_dim):\n",
        "    model = Sequential()\n",
        "    model.add(Dense(128, input_dim=input_dim, activation='relu'))\n",
        "    model.add(Dropout(0.5))  # Dropout to prevent overfitting\n",
        "    model.add(Dense(64, activation='relu'))\n",
        "    model.add(Dense(20, activation='softmax'))  # 20 classes for the newsgroup categories\n",
        "    model.compile(optimizer=Adam(), loss='sparse_categorical_crossentropy', metrics=['accuracy'])\n",
        "    return model"
      ],
      "metadata": {
        "id": "Q0zgc3Uv-hpZ"
      },
      "execution_count": 26,
      "outputs": []
    },
    {
      "cell_type": "code",
      "source": [
        "### MODEL TRAINING\n",
        "model_word2vec = build_ann_model(X_train_word2vec.shape[1])  ## input_dim should match the length of Word2Vec vectors\n",
        "history_word2vec = model_word2vec.fit(X_train_word2vec, y_train, epochs=10, batch_size=64, validation_data=(X_test_word2vec, y_test))"
      ],
      "metadata": {
        "colab": {
          "base_uri": "https://localhost:8080/"
        },
        "id": "qDf3SkUi-hhB",
        "outputId": "efcb1043-e225-465c-e027-cb534ed85c90"
      },
      "execution_count": 27,
      "outputs": [
        {
          "output_type": "stream",
          "name": "stderr",
          "text": [
            "/usr/local/lib/python3.11/dist-packages/keras/src/layers/core/dense.py:87: UserWarning: Do not pass an `input_shape`/`input_dim` argument to a layer. When using Sequential models, prefer using an `Input(shape)` object as the first layer in the model instead.\n",
            "  super().__init__(activity_regularizer=activity_regularizer, **kwargs)\n"
          ]
        },
        {
          "output_type": "stream",
          "name": "stdout",
          "text": [
            "Epoch 1/10\n",
            "\u001b[1m236/236\u001b[0m \u001b[32m━━━━━━━━━━━━━━━━━━━━\u001b[0m\u001b[37m\u001b[0m \u001b[1m12s\u001b[0m 46ms/step - accuracy: 0.0614 - loss: 3.1068 - val_accuracy: 0.0942 - val_loss: 2.8460\n",
            "Epoch 2/10\n",
            "\u001b[1m236/236\u001b[0m \u001b[32m━━━━━━━━━━━━━━━━━━━━\u001b[0m\u001b[37m\u001b[0m \u001b[1m19s\u001b[0m 39ms/step - accuracy: 0.0943 - loss: 2.8592 - val_accuracy: 0.1347 - val_loss: 2.7079\n",
            "Epoch 3/10\n",
            "\u001b[1m236/236\u001b[0m \u001b[32m━━━━━━━━━━━━━━━━━━━━\u001b[0m\u001b[37m\u001b[0m \u001b[1m10s\u001b[0m 42ms/step - accuracy: 0.1181 - loss: 2.7482 - val_accuracy: 0.1408 - val_loss: 2.6525\n",
            "Epoch 4/10\n",
            "\u001b[1m236/236\u001b[0m \u001b[32m━━━━━━━━━━━━━━━━━━━━\u001b[0m\u001b[37m\u001b[0m \u001b[1m10s\u001b[0m 44ms/step - accuracy: 0.1309 - loss: 2.6906 - val_accuracy: 0.1454 - val_loss: 2.6229\n",
            "Epoch 5/10\n",
            "\u001b[1m236/236\u001b[0m \u001b[32m━━━━━━━━━━━━━━━━━━━━\u001b[0m\u001b[37m\u001b[0m \u001b[1m21s\u001b[0m 45ms/step - accuracy: 0.1428 - loss: 2.6478 - val_accuracy: 0.1788 - val_loss: 2.5730\n",
            "Epoch 6/10\n",
            "\u001b[1m236/236\u001b[0m \u001b[32m━━━━━━━━━━━━━━━━━━━━\u001b[0m\u001b[37m\u001b[0m \u001b[1m19s\u001b[0m 41ms/step - accuracy: 0.1547 - loss: 2.6083 - val_accuracy: 0.1560 - val_loss: 2.5658\n",
            "Epoch 7/10\n",
            "\u001b[1m236/236\u001b[0m \u001b[32m━━━━━━━━━━━━━━━━━━━━\u001b[0m\u001b[37m\u001b[0m \u001b[1m11s\u001b[0m 44ms/step - accuracy: 0.1705 - loss: 2.5471 - val_accuracy: 0.1684 - val_loss: 2.5394\n",
            "Epoch 8/10\n",
            "\u001b[1m236/236\u001b[0m \u001b[32m━━━━━━━━━━━━━━━━━━━━\u001b[0m\u001b[37m\u001b[0m \u001b[1m20s\u001b[0m 44ms/step - accuracy: 0.1807 - loss: 2.5147 - val_accuracy: 0.1817 - val_loss: 2.5152\n",
            "Epoch 9/10\n",
            "\u001b[1m236/236\u001b[0m \u001b[32m━━━━━━━━━━━━━━━━━━━━\u001b[0m\u001b[37m\u001b[0m \u001b[1m11s\u001b[0m 46ms/step - accuracy: 0.1954 - loss: 2.4700 - val_accuracy: 0.1687 - val_loss: 2.5019\n",
            "Epoch 10/10\n",
            "\u001b[1m236/236\u001b[0m \u001b[32m━━━━━━━━━━━━━━━━━━━━\u001b[0m\u001b[37m\u001b[0m \u001b[1m20s\u001b[0m 43ms/step - accuracy: 0.2071 - loss: 2.4345 - val_accuracy: 0.1817 - val_loss: 2.4925\n"
          ]
        }
      ]
    },
    {
      "cell_type": "code",
      "source": [
        "### MODEL EVALUATION\n",
        "loss_word2vec, accuracy_word2vec = model_word2vec.evaluate(X_test_word2vec, y_test)\n",
        "print(f'Word2Vec Approach Accuracy: {accuracy_word2vec:.4f}')"
      ],
      "metadata": {
        "colab": {
          "base_uri": "https://localhost:8080/"
        },
        "id": "V6V4Ii2Y-hbv",
        "outputId": "2b477f82-b3a7-42de-ebe0-05b413cc1e11"
      },
      "execution_count": 28,
      "outputs": [
        {
          "output_type": "stream",
          "name": "stdout",
          "text": [
            "\u001b[1m118/118\u001b[0m \u001b[32m━━━━━━━━━━━━━━━━━━━━\u001b[0m\u001b[37m\u001b[0m \u001b[1m1s\u001b[0m 7ms/step - accuracy: 0.1793 - loss: 2.4992\n",
            "Word2Vec Approach Accuracy: 0.1817\n"
          ]
        }
      ]
    },
    {
      "cell_type": "code",
      "source": [
        "### CREATING THE AVERAGE WORD2VEC FEATURE VECTORS FOR EACH DOCUMENTS\n",
        "\n",
        "def get_average_word2vec(tokens_list, model, vector_size=100):\n",
        "    word_vectors = [model.wv[token] for token in tokens_list if token in model.wv]\n",
        "    if word_vectors:\n",
        "        return np.mean(word_vectors, axis=0)\n",
        "    else:\n",
        "        return np.zeros(vector_size)\n",
        "\n",
        "X_average_word2vec = np.array([get_average_word2vec(tokens, word2vec_model) for tokens in df['tokens']])"
      ],
      "metadata": {
        "id": "v6fQmyVs-hZb"
      },
      "execution_count": 29,
      "outputs": []
    },
    {
      "cell_type": "code",
      "source": [
        "### TRAIN TEST SPLITTING\n",
        "X_train_avg_word2vec, X_test_avg_word2vec, y_train, y_test = train_test_split(X_average_word2vec, y, test_size=0.2, random_state=42)\n"
      ],
      "metadata": {
        "id": "Vp7CHjKd-hXC"
      },
      "execution_count": 30,
      "outputs": []
    },
    {
      "cell_type": "code",
      "source": [
        "### MODEL BUILDING AND COMPILING\n",
        "\n",
        "def build_ann_model(input_dim):\n",
        "    model = Sequential()\n",
        "    model.add(Dense(128, input_dim=input_dim, activation='relu'))\n",
        "    model.add(Dropout(0.5))  # Dropout to prevent overfitting\n",
        "    model.add(Dense(64, activation='relu'))\n",
        "    model.add(Dense(20, activation='softmax'))  # 20 classes for the newsgroup categories\n",
        "    model.compile(optimizer=Adam(), loss='sparse_categorical_crossentropy', metrics=['accuracy'])\n",
        "    return model"
      ],
      "metadata": {
        "id": "FSmEFI4N7Twz"
      },
      "execution_count": 31,
      "outputs": []
    },
    {
      "cell_type": "code",
      "source": [
        "### MODEL TRAINING\n",
        "model_avg_word2vec = build_ann_model(X_train_avg_word2vec.shape[1])  # input_dim should match the length of Average Word2Vec vectors\n",
        "history_avg_word2vec = model_avg_word2vec.fit(X_train_avg_word2vec, y_train, epochs=10, batch_size=64, validation_data=(X_test_avg_word2vec, y_test))"
      ],
      "metadata": {
        "colab": {
          "base_uri": "https://localhost:8080/"
        },
        "id": "87y864Cs7Tuh",
        "outputId": "a02a6516-ea4a-4b2a-93d6-468335b97566"
      },
      "execution_count": 32,
      "outputs": [
        {
          "output_type": "stream",
          "name": "stdout",
          "text": [
            "Epoch 1/10\n",
            "\u001b[1m236/236\u001b[0m \u001b[32m━━━━━━━━━━━━━━━━━━━━\u001b[0m\u001b[37m\u001b[0m \u001b[1m2s\u001b[0m 4ms/step - accuracy: 0.1039 - loss: 2.8872 - val_accuracy: 0.2584 - val_loss: 2.3201\n",
            "Epoch 2/10\n",
            "\u001b[1m236/236\u001b[0m \u001b[32m━━━━━━━━━━━━━━━━━━━━\u001b[0m\u001b[37m\u001b[0m \u001b[1m1s\u001b[0m 3ms/step - accuracy: 0.2196 - loss: 2.3855 - val_accuracy: 0.2902 - val_loss: 2.1853\n",
            "Epoch 3/10\n",
            "\u001b[1m236/236\u001b[0m \u001b[32m━━━━━━━━━━━━━━━━━━━━\u001b[0m\u001b[37m\u001b[0m \u001b[1m1s\u001b[0m 3ms/step - accuracy: 0.2567 - loss: 2.2728 - val_accuracy: 0.3109 - val_loss: 2.1238\n",
            "Epoch 4/10\n",
            "\u001b[1m236/236\u001b[0m \u001b[32m━━━━━━━━━━━━━━━━━━━━\u001b[0m\u001b[37m\u001b[0m \u001b[1m1s\u001b[0m 3ms/step - accuracy: 0.2847 - loss: 2.1841 - val_accuracy: 0.3263 - val_loss: 2.0862\n",
            "Epoch 5/10\n",
            "\u001b[1m236/236\u001b[0m \u001b[32m━━━━━━━━━━━━━━━━━━━━\u001b[0m\u001b[37m\u001b[0m \u001b[1m1s\u001b[0m 5ms/step - accuracy: 0.3012 - loss: 2.1524 - val_accuracy: 0.3332 - val_loss: 2.0699\n",
            "Epoch 6/10\n",
            "\u001b[1m236/236\u001b[0m \u001b[32m━━━━━━━━━━━━━━━━━━━━\u001b[0m\u001b[37m\u001b[0m \u001b[1m1s\u001b[0m 5ms/step - accuracy: 0.2986 - loss: 2.1382 - val_accuracy: 0.3443 - val_loss: 2.0397\n",
            "Epoch 7/10\n",
            "\u001b[1m236/236\u001b[0m \u001b[32m━━━━━━━━━━━━━━━━━━━━\u001b[0m\u001b[37m\u001b[0m \u001b[1m1s\u001b[0m 3ms/step - accuracy: 0.3176 - loss: 2.1010 - val_accuracy: 0.3584 - val_loss: 2.0087\n",
            "Epoch 8/10\n",
            "\u001b[1m236/236\u001b[0m \u001b[32m━━━━━━━━━━━━━━━━━━━━\u001b[0m\u001b[37m\u001b[0m \u001b[1m1s\u001b[0m 3ms/step - accuracy: 0.3261 - loss: 2.0723 - val_accuracy: 0.3475 - val_loss: 1.9970\n",
            "Epoch 9/10\n",
            "\u001b[1m236/236\u001b[0m \u001b[32m━━━━━━━━━━━━━━━━━━━━\u001b[0m\u001b[37m\u001b[0m \u001b[1m1s\u001b[0m 3ms/step - accuracy: 0.3377 - loss: 2.0623 - val_accuracy: 0.3629 - val_loss: 1.9804\n",
            "Epoch 10/10\n",
            "\u001b[1m236/236\u001b[0m \u001b[32m━━━━━━━━━━━━━━━━━━━━\u001b[0m\u001b[37m\u001b[0m \u001b[1m1s\u001b[0m 3ms/step - accuracy: 0.3373 - loss: 2.0405 - val_accuracy: 0.3650 - val_loss: 1.9691\n"
          ]
        }
      ]
    },
    {
      "cell_type": "code",
      "source": [
        "### MODEL EVALUATION\n",
        "loss_avg_word2vec, accuracy_avg_word2vec = model_avg_word2vec.evaluate(X_test_avg_word2vec, y_test)\n",
        "print(f'Average Word2Vec Approach Accuracy: {accuracy_avg_word2vec:.4f}')"
      ],
      "metadata": {
        "colab": {
          "base_uri": "https://localhost:8080/"
        },
        "id": "ZSAw7Ua_7Tls",
        "outputId": "0a82b67d-8be4-4967-9fe3-b953ccdbf916"
      },
      "execution_count": 33,
      "outputs": [
        {
          "output_type": "stream",
          "name": "stdout",
          "text": [
            "\u001b[1m118/118\u001b[0m \u001b[32m━━━━━━━━━━━━━━━━━━━━\u001b[0m\u001b[37m\u001b[0m \u001b[1m0s\u001b[0m 2ms/step - accuracy: 0.3552 - loss: 1.9937\n",
            "Average Word2Vec Approach Accuracy: 0.3650\n"
          ]
        }
      ]
    }
  ]
}